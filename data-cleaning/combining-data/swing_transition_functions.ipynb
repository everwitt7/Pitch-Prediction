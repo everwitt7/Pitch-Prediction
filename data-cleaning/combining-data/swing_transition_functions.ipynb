{
 "cells": [
  {
   "cell_type": "code",
   "execution_count": 1,
   "metadata": {},
   "outputs": [],
   "source": [
    "import pandas as pd\n",
    "import numpy as np"
   ]
  },
  {
   "cell_type": "code",
   "execution_count": 2,
   "metadata": {},
   "outputs": [],
   "source": [
    "p = pd.read_csv('./all_pitches.csv')"
   ]
  },
  {
   "cell_type": "code",
   "execution_count": 3,
   "metadata": {},
   "outputs": [],
   "source": [
    "#need to pull rhh\n",
    "ab = pd.read_csv('./all_atbats.csv')"
   ]
  },
  {
   "cell_type": "code",
   "execution_count": 4,
   "metadata": {},
   "outputs": [],
   "source": [
    "filt = p['zone'] != '-1'\n",
    "p = p.loc[filt]"
   ]
  },
  {
   "cell_type": "code",
   "execution_count": 5,
   "metadata": {},
   "outputs": [
    {
     "data": {
      "text/plain": [
       "12a    311062\n",
       "15a    288733\n",
       "13a    279727\n",
       "4a     239050\n",
       "7a     229461\n",
       "8a     210612\n",
       "3a     206808\n",
       "5a     204035\n",
       "6a     187835\n",
       "1a     134066\n",
       "15b    127702\n",
       "0a     117847\n",
       "16b    111816\n",
       "13b    109396\n",
       "12b    109055\n",
       "2a     104105\n",
       "10b     75499\n",
       "16a     67266\n",
       "10a     64783\n",
       "14b     56338\n",
       "9b      39108\n",
       "14a     38355\n",
       "11b     24377\n",
       "9a       8575\n",
       "Name: zone, dtype: int64"
      ]
     },
     "execution_count": 5,
     "metadata": {},
     "output_type": "execute_result"
    }
   ],
   "source": [
    "p['zone'].value_counts()"
   ]
  },
  {
   "cell_type": "code",
   "execution_count": 10,
   "metadata": {},
   "outputs": [
    {
     "data": {
      "text/html": [
       "<div>\n",
       "<style scoped>\n",
       "    .dataframe tbody tr th:only-of-type {\n",
       "        vertical-align: middle;\n",
       "    }\n",
       "\n",
       "    .dataframe tbody tr th {\n",
       "        vertical-align: top;\n",
       "    }\n",
       "\n",
       "    .dataframe thead th {\n",
       "        text-align: right;\n",
       "    }\n",
       "</style>\n",
       "<table border=\"1\" class=\"dataframe\">\n",
       "  <thead>\n",
       "    <tr style=\"text-align: right;\">\n",
       "      <th></th>\n",
       "      <th>px</th>\n",
       "      <th>py</th>\n",
       "      <th>code</th>\n",
       "      <th>type</th>\n",
       "      <th>pitch_type</th>\n",
       "      <th>ab_id</th>\n",
       "      <th>b_count</th>\n",
       "      <th>s_count</th>\n",
       "      <th>outs</th>\n",
       "      <th>pitch_num</th>\n",
       "      <th>on_1b</th>\n",
       "      <th>on_2b</th>\n",
       "      <th>on_3b</th>\n",
       "      <th>swing</th>\n",
       "      <th>res</th>\n",
       "      <th>zone</th>\n",
       "    </tr>\n",
       "  </thead>\n",
       "  <tbody>\n",
       "    <tr>\n",
       "      <th>0</th>\n",
       "      <td>0.416</td>\n",
       "      <td>0.364</td>\n",
       "      <td>C</td>\n",
       "      <td>S</td>\n",
       "      <td>FF</td>\n",
       "      <td>2015000001</td>\n",
       "      <td>0</td>\n",
       "      <td>0</td>\n",
       "      <td>0</td>\n",
       "      <td>1</td>\n",
       "      <td>0.0</td>\n",
       "      <td>0.0</td>\n",
       "      <td>0.0</td>\n",
       "      <td>0</td>\n",
       "      <td>strike</td>\n",
       "      <td>2a</td>\n",
       "    </tr>\n",
       "    <tr>\n",
       "      <th>1</th>\n",
       "      <td>-0.191</td>\n",
       "      <td>-0.252</td>\n",
       "      <td>S</td>\n",
       "      <td>S</td>\n",
       "      <td>FF</td>\n",
       "      <td>2015000001</td>\n",
       "      <td>0</td>\n",
       "      <td>1</td>\n",
       "      <td>0</td>\n",
       "      <td>2</td>\n",
       "      <td>0.0</td>\n",
       "      <td>0.0</td>\n",
       "      <td>0.0</td>\n",
       "      <td>1</td>\n",
       "      <td>strike</td>\n",
       "      <td>4a</td>\n",
       "    </tr>\n",
       "    <tr>\n",
       "      <th>2</th>\n",
       "      <td>-0.518</td>\n",
       "      <td>0.685</td>\n",
       "      <td>F</td>\n",
       "      <td>S</td>\n",
       "      <td>FF</td>\n",
       "      <td>2015000001</td>\n",
       "      <td>0</td>\n",
       "      <td>2</td>\n",
       "      <td>0</td>\n",
       "      <td>3</td>\n",
       "      <td>0.0</td>\n",
       "      <td>0.0</td>\n",
       "      <td>0.0</td>\n",
       "      <td>1</td>\n",
       "      <td>foul</td>\n",
       "      <td>0a</td>\n",
       "    </tr>\n",
       "    <tr>\n",
       "      <th>3</th>\n",
       "      <td>-0.641</td>\n",
       "      <td>-1.378</td>\n",
       "      <td>B</td>\n",
       "      <td>B</td>\n",
       "      <td>FF</td>\n",
       "      <td>2015000001</td>\n",
       "      <td>0</td>\n",
       "      <td>2</td>\n",
       "      <td>0</td>\n",
       "      <td>4</td>\n",
       "      <td>0.0</td>\n",
       "      <td>0.0</td>\n",
       "      <td>0.0</td>\n",
       "      <td>0</td>\n",
       "      <td>ball</td>\n",
       "      <td>15b</td>\n",
       "    </tr>\n",
       "    <tr>\n",
       "      <th>4</th>\n",
       "      <td>-1.821</td>\n",
       "      <td>-0.516</td>\n",
       "      <td>B</td>\n",
       "      <td>B</td>\n",
       "      <td>CU</td>\n",
       "      <td>2015000001</td>\n",
       "      <td>1</td>\n",
       "      <td>2</td>\n",
       "      <td>0</td>\n",
       "      <td>5</td>\n",
       "      <td>0.0</td>\n",
       "      <td>0.0</td>\n",
       "      <td>0.0</td>\n",
       "      <td>0</td>\n",
       "      <td>ball</td>\n",
       "      <td>12b</td>\n",
       "    </tr>\n",
       "  </tbody>\n",
       "</table>\n",
       "</div>"
      ],
      "text/plain": [
       "      px     py code type pitch_type       ab_id  b_count  s_count  outs  \\\n",
       "0  0.416  0.364    C    S         FF  2015000001        0        0     0   \n",
       "1 -0.191 -0.252    S    S         FF  2015000001        0        1     0   \n",
       "2 -0.518  0.685    F    S         FF  2015000001        0        2     0   \n",
       "3 -0.641 -1.378    B    B         FF  2015000001        0        2     0   \n",
       "4 -1.821 -0.516    B    B         CU  2015000001        1        2     0   \n",
       "\n",
       "   pitch_num  on_1b  on_2b  on_3b  swing     res zone  \n",
       "0          1    0.0    0.0    0.0      0  strike   2a  \n",
       "1          2    0.0    0.0    0.0      1  strike   4a  \n",
       "2          3    0.0    0.0    0.0      1    foul   0a  \n",
       "3          4    0.0    0.0    0.0      0    ball  15b  \n",
       "4          5    0.0    0.0    0.0      0    ball  12b  "
      ]
     },
     "execution_count": 10,
     "metadata": {},
     "output_type": "execute_result"
    }
   ],
   "source": [
    "p.head()"
   ]
  },
  {
   "cell_type": "code",
   "execution_count": 8,
   "metadata": {},
   "outputs": [],
   "source": [
    "filt = ab['stand'] == 'R'\n",
    "rhh = ab.loc[filt]"
   ]
  },
  {
   "cell_type": "code",
   "execution_count": 11,
   "metadata": {},
   "outputs": [],
   "source": [
    "#filtering pitches so we have only rhh batters\n",
    "filt = p['ab_id'].isin(rhh['ab_id'])\n",
    "p = p.loc[filt]"
   ]
  },
  {
   "cell_type": "markdown",
   "metadata": {},
   "source": [
    "## Comparing Old Data to New Data to see if our Zone distribution makes sense"
   ]
  },
  {
   "cell_type": "code",
   "execution_count": 19,
   "metadata": {},
   "outputs": [],
   "source": [
    "# Pulling from swing data from GitHub\n",
    "import requests, json, io\n",
    "def pull_github_csv(user='mbendy', pao='ce9aec01691d2a8efde6a73dc3a6a5e337960199'):\n",
    "    github_session = requests.Session()\n",
    "    github_session.auth = (user, pao)\n",
    "\n",
    "    # providing raw url to download csv from github\n",
    "    url_swing = 'https://raw.githubusercontent.com/everwitt7/Pitch-Data/master/all_pitchers_rhh_swing_data.csv'\n",
    "    url_take = 'https://raw.githubusercontent.com/everwitt7/Pitch-Data/master/all_pitchers_rhh_take_data.csv'\n",
    "    \n",
    "    download = github_session.get(url_swing).content\n",
    "    df_swing = pd.read_csv(io.StringIO(download.decode('utf-8')), error_bad_lines=False)\n",
    "    \n",
    "    download = github_session.get(url_take).content\n",
    "    df_take = pd.read_csv(io.StringIO(download.decode('utf-8')), error_bad_lines=False)\n",
    "    \n",
    "    df = df_swing.append(df_take, ignore_index=False)\n",
    "\n",
    "    # pulling only necessary data  \n",
    "    pitcher_actions = [\"FF\", \"SL\", \"FT\", \"CH\", \"CU\", \"FC\", \"SI\"]\n",
    "    df = df[df['pitch_type'].isin(pitcher_actions)]\n",
    "\n",
    "    return df\n",
    "\n",
    "old_data = pull_github_csv()"
   ]
  },
  {
   "cell_type": "code",
   "execution_count": 20,
   "metadata": {},
   "outputs": [
    {
     "data": {
      "text/plain": [
       "13a    0.104323\n",
       "15a    0.084263\n",
       "8a     0.075859\n",
       "4a     0.075046\n",
       "5a     0.072232\n",
       "7a     0.069566\n",
       "12a    0.069282\n",
       "3a     0.052907\n",
       "6a     0.044822\n",
       "13b    0.042761\n",
       "16b    0.042073\n",
       "1a     0.040901\n",
       "15b    0.035156\n",
       "2a     0.033747\n",
       "0a     0.031728\n",
       "16a    0.024925\n",
       "10b    0.021490\n",
       "12b    0.020445\n",
       "10a    0.018259\n",
       "14b    0.013108\n",
       "11b    0.008926\n",
       "14a    0.008818\n",
       "9b     0.007576\n",
       "9a     0.001786\n",
       "Name: zones, dtype: float64"
      ]
     },
     "execution_count": 20,
     "metadata": {},
     "output_type": "execute_result"
    }
   ],
   "source": [
    "old_data['zones'].value_counts(normalize=True)"
   ]
  },
  {
   "cell_type": "code",
   "execution_count": 21,
   "metadata": {},
   "outputs": [
    {
     "data": {
      "text/plain": [
       "13a    0.104544\n",
       "15a    0.084211\n",
       "8a     0.075513\n",
       "4a     0.073526\n",
       "5a     0.071406\n",
       "12a    0.068383\n",
       "7a     0.068323\n",
       "3a     0.052189\n",
       "6a     0.044446\n",
       "16b    0.042946\n",
       "13b    0.042334\n",
       "1a     0.041136\n",
       "15b    0.036388\n",
       "2a     0.033961\n",
       "0a     0.032117\n",
       "16a    0.026069\n",
       "10b    0.022214\n",
       "12b    0.020632\n",
       "10a    0.018996\n",
       "14b    0.013630\n",
       "11b    0.008989\n",
       "14a    0.008509\n",
       "9b     0.007412\n",
       "9a     0.002124\n",
       "Name: zone, dtype: float64"
      ]
     },
     "execution_count": 21,
     "metadata": {},
     "output_type": "execute_result"
    }
   ],
   "source": [
    "p['zone'].value_counts(normalize=True)"
   ]
  },
  {
   "cell_type": "code",
   "execution_count": 22,
   "metadata": {},
   "outputs": [
    {
     "name": "stdout",
     "output_type": "stream",
     "text": [
      "(1575773, 12)\n",
      "(1958772, 16)\n"
     ]
    }
   ],
   "source": [
    "print(old_data.shape)\n",
    "print(p.shape)"
   ]
  },
  {
   "cell_type": "code",
   "execution_count": 29,
   "metadata": {},
   "outputs": [],
   "source": [
    "#want to group by pitch and zone, then I want the normalized value counts of 'result'\n",
    "pz_group = p.groupby(['pitch_type', 'zone'])\n",
    "trans = pz_group['res'].value_counts(normalize=True)"
   ]
  },
  {
   "cell_type": "code",
   "execution_count": 31,
   "metadata": {},
   "outputs": [
    {
     "data": {
      "text/plain": [
       "(667,)"
      ]
     },
     "execution_count": 31,
     "metadata": {},
     "output_type": "execute_result"
    }
   ],
   "source": [
    "#the shape should be num_pitches * num_zones * num_res ~ 6 * 22 * 5 = 660\n",
    "trans.shape"
   ]
  },
  {
   "cell_type": "code",
   "execution_count": 32,
   "metadata": {},
   "outputs": [
    {
     "data": {
      "text/plain": [
       "pitch_type  zone  res   \n",
       "CH          0a    strike    0.375752\n",
       "                  foul      0.266032\n",
       "                  ball      0.159319\n",
       "                  out       0.138778\n",
       "                  hit       0.060120\n",
       "                              ...   \n",
       "SL          9b    ball      0.967495\n",
       "                  strike    0.016571\n",
       "                  foul      0.011472\n",
       "                  out       0.003187\n",
       "                  hit       0.001275\n",
       "Name: res, Length: 667, dtype: float64"
      ]
     },
     "execution_count": 32,
     "metadata": {},
     "output_type": "execute_result"
    }
   ],
   "source": [
    "trans"
   ]
  },
  {
   "cell_type": "code",
   "execution_count": 45,
   "metadata": {},
   "outputs": [
    {
     "data": {
      "text/plain": [
       "0.33159192298661655"
      ]
     },
     "execution_count": 45,
     "metadata": {},
     "output_type": "execute_result"
    }
   ],
   "source": [
    "trans['FF']['0a']['strike']"
   ]
  },
  {
   "cell_type": "code",
   "execution_count": 48,
   "metadata": {},
   "outputs": [],
   "source": [
    "t = p.groupby(['pitch_type', 'zone', 'on_1b'])\n",
    "tt = t['res'].value_counts(normalize=True)"
   ]
  },
  {
   "cell_type": "code",
   "execution_count": 49,
   "metadata": {},
   "outputs": [
    {
     "data": {
      "text/plain": [
       "pitch_type  zone  on_1b  res   \n",
       "CH          0a    0.0    strike    0.365123\n",
       "                         foul      0.248865\n",
       "                         ball      0.166213\n",
       "                         out       0.138056\n",
       "                         hit       0.081744\n",
       "                                     ...   \n",
       "SL          9b    0.0    out       0.002273\n",
       "                  1.0    ball      0.961440\n",
       "                         strike    0.020566\n",
       "                         foul      0.012853\n",
       "                         out       0.005141\n",
       "Name: res, Length: 1317, dtype: float64"
      ]
     },
     "execution_count": 49,
     "metadata": {},
     "output_type": "execute_result"
    }
   ],
   "source": [
    "tt"
   ]
  },
  {
   "cell_type": "code",
   "execution_count": null,
   "metadata": {},
   "outputs": [],
   "source": []
  }
 ],
 "metadata": {
  "kernelspec": {
   "display_name": "Python 3",
   "language": "python",
   "name": "python3"
  },
  "language_info": {
   "codemirror_mode": {
    "name": "ipython",
    "version": 3
   },
   "file_extension": ".py",
   "mimetype": "text/x-python",
   "name": "python",
   "nbconvert_exporter": "python",
   "pygments_lexer": "ipython3",
   "version": "3.8.5"
  }
 },
 "nbformat": 4,
 "nbformat_minor": 4
}
