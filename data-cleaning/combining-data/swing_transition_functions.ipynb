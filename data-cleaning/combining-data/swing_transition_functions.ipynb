{
 "cells": [
  {
   "cell_type": "code",
   "execution_count": 1,
   "metadata": {},
   "outputs": [],
   "source": [
    "import pandas as pd\n",
    "import numpy as np\n",
    "import json"
   ]
  },
  {
   "cell_type": "code",
   "execution_count": 2,
   "metadata": {},
   "outputs": [],
   "source": [
    "p = pd.read_csv('./all_pitches.csv')"
   ]
  },
  {
   "cell_type": "code",
   "execution_count": 3,
   "metadata": {},
   "outputs": [],
   "source": [
    "ab = pd.read_csv('./all_atbats.csv')"
   ]
  },
  {
   "cell_type": "code",
   "execution_count": 4,
   "metadata": {},
   "outputs": [],
   "source": [
    "filt = p['zone'] != '-1'\n",
    "p = p.loc[filt]"
   ]
  },
  {
   "cell_type": "code",
   "execution_count": 5,
   "metadata": {},
   "outputs": [
    {
     "data": {
      "text/plain": [
       "12a    311062\n",
       "15a    288733\n",
       "13a    279727\n",
       "4a     239050\n",
       "7a     229461\n",
       "8a     210612\n",
       "3a     206808\n",
       "5a     204035\n",
       "6a     187835\n",
       "1a     134066\n",
       "15b    127702\n",
       "0a     117847\n",
       "16b    111816\n",
       "13b    109396\n",
       "12b    109055\n",
       "2a     104105\n",
       "10b     75499\n",
       "16a     67266\n",
       "10a     64783\n",
       "14b     56338\n",
       "9b      39108\n",
       "14a     38355\n",
       "11b     24377\n",
       "9a       8575\n",
       "Name: zone, dtype: int64"
      ]
     },
     "execution_count": 5,
     "metadata": {},
     "output_type": "execute_result"
    }
   ],
   "source": [
    "p['zone'].value_counts()"
   ]
  },
  {
   "cell_type": "code",
   "execution_count": 6,
   "metadata": {},
   "outputs": [
    {
     "data": {
      "text/html": [
       "<div>\n",
       "<style scoped>\n",
       "    .dataframe tbody tr th:only-of-type {\n",
       "        vertical-align: middle;\n",
       "    }\n",
       "\n",
       "    .dataframe tbody tr th {\n",
       "        vertical-align: top;\n",
       "    }\n",
       "\n",
       "    .dataframe thead th {\n",
       "        text-align: right;\n",
       "    }\n",
       "</style>\n",
       "<table border=\"1\" class=\"dataframe\">\n",
       "  <thead>\n",
       "    <tr style=\"text-align: right;\">\n",
       "      <th></th>\n",
       "      <th>px</th>\n",
       "      <th>py</th>\n",
       "      <th>code</th>\n",
       "      <th>type</th>\n",
       "      <th>pitch_type</th>\n",
       "      <th>ab_id</th>\n",
       "      <th>b_count</th>\n",
       "      <th>s_count</th>\n",
       "      <th>outs</th>\n",
       "      <th>pitch_num</th>\n",
       "      <th>on_1b</th>\n",
       "      <th>on_2b</th>\n",
       "      <th>on_3b</th>\n",
       "      <th>swing</th>\n",
       "      <th>res</th>\n",
       "      <th>zone</th>\n",
       "    </tr>\n",
       "  </thead>\n",
       "  <tbody>\n",
       "    <tr>\n",
       "      <th>0</th>\n",
       "      <td>0.416</td>\n",
       "      <td>0.364</td>\n",
       "      <td>C</td>\n",
       "      <td>S</td>\n",
       "      <td>FF</td>\n",
       "      <td>2015000001</td>\n",
       "      <td>0</td>\n",
       "      <td>0</td>\n",
       "      <td>0</td>\n",
       "      <td>1</td>\n",
       "      <td>0.0</td>\n",
       "      <td>0.0</td>\n",
       "      <td>0.0</td>\n",
       "      <td>0</td>\n",
       "      <td>strike</td>\n",
       "      <td>2a</td>\n",
       "    </tr>\n",
       "    <tr>\n",
       "      <th>1</th>\n",
       "      <td>-0.191</td>\n",
       "      <td>-0.252</td>\n",
       "      <td>S</td>\n",
       "      <td>S</td>\n",
       "      <td>FF</td>\n",
       "      <td>2015000001</td>\n",
       "      <td>0</td>\n",
       "      <td>1</td>\n",
       "      <td>0</td>\n",
       "      <td>2</td>\n",
       "      <td>0.0</td>\n",
       "      <td>0.0</td>\n",
       "      <td>0.0</td>\n",
       "      <td>1</td>\n",
       "      <td>strike</td>\n",
       "      <td>4a</td>\n",
       "    </tr>\n",
       "    <tr>\n",
       "      <th>2</th>\n",
       "      <td>-0.518</td>\n",
       "      <td>0.685</td>\n",
       "      <td>F</td>\n",
       "      <td>S</td>\n",
       "      <td>FF</td>\n",
       "      <td>2015000001</td>\n",
       "      <td>0</td>\n",
       "      <td>2</td>\n",
       "      <td>0</td>\n",
       "      <td>3</td>\n",
       "      <td>0.0</td>\n",
       "      <td>0.0</td>\n",
       "      <td>0.0</td>\n",
       "      <td>1</td>\n",
       "      <td>foul</td>\n",
       "      <td>0a</td>\n",
       "    </tr>\n",
       "    <tr>\n",
       "      <th>3</th>\n",
       "      <td>-0.641</td>\n",
       "      <td>-1.378</td>\n",
       "      <td>B</td>\n",
       "      <td>B</td>\n",
       "      <td>FF</td>\n",
       "      <td>2015000001</td>\n",
       "      <td>0</td>\n",
       "      <td>2</td>\n",
       "      <td>0</td>\n",
       "      <td>4</td>\n",
       "      <td>0.0</td>\n",
       "      <td>0.0</td>\n",
       "      <td>0.0</td>\n",
       "      <td>0</td>\n",
       "      <td>ball</td>\n",
       "      <td>15b</td>\n",
       "    </tr>\n",
       "    <tr>\n",
       "      <th>4</th>\n",
       "      <td>-1.821</td>\n",
       "      <td>-0.516</td>\n",
       "      <td>B</td>\n",
       "      <td>B</td>\n",
       "      <td>CU</td>\n",
       "      <td>2015000001</td>\n",
       "      <td>1</td>\n",
       "      <td>2</td>\n",
       "      <td>0</td>\n",
       "      <td>5</td>\n",
       "      <td>0.0</td>\n",
       "      <td>0.0</td>\n",
       "      <td>0.0</td>\n",
       "      <td>0</td>\n",
       "      <td>ball</td>\n",
       "      <td>12b</td>\n",
       "    </tr>\n",
       "  </tbody>\n",
       "</table>\n",
       "</div>"
      ],
      "text/plain": [
       "      px     py code type pitch_type       ab_id  b_count  s_count  outs  \\\n",
       "0  0.416  0.364    C    S         FF  2015000001        0        0     0   \n",
       "1 -0.191 -0.252    S    S         FF  2015000001        0        1     0   \n",
       "2 -0.518  0.685    F    S         FF  2015000001        0        2     0   \n",
       "3 -0.641 -1.378    B    B         FF  2015000001        0        2     0   \n",
       "4 -1.821 -0.516    B    B         CU  2015000001        1        2     0   \n",
       "\n",
       "   pitch_num  on_1b  on_2b  on_3b  swing     res zone  \n",
       "0          1    0.0    0.0    0.0      0  strike   2a  \n",
       "1          2    0.0    0.0    0.0      1  strike   4a  \n",
       "2          3    0.0    0.0    0.0      1    foul   0a  \n",
       "3          4    0.0    0.0    0.0      0    ball  15b  \n",
       "4          5    0.0    0.0    0.0      0    ball  12b  "
      ]
     },
     "execution_count": 6,
     "metadata": {},
     "output_type": "execute_result"
    }
   ],
   "source": [
    "p.head()"
   ]
  },
  {
   "cell_type": "code",
   "execution_count": 7,
   "metadata": {},
   "outputs": [],
   "source": [
    "filt = ab['stand'] == 'R'\n",
    "rhh = ab.loc[filt]"
   ]
  },
  {
   "cell_type": "code",
   "execution_count": 8,
   "metadata": {},
   "outputs": [],
   "source": [
    "#filtering pitches so we have only rhh batters\n",
    "filt = p['ab_id'].isin(rhh['ab_id'])\n",
    "p = p.loc[filt]"
   ]
  },
  {
   "cell_type": "code",
   "execution_count": 12,
   "metadata": {},
   "outputs": [],
   "source": [
    "swing_trans = {}\n",
    "for p_name, z in p.groupby('pitch_type'):\n",
    "    swing_trans[p_name] = {}\n",
    "    for z_name, g in z.groupby('zone'):\n",
    "        swing_trans[p_name][z_name] = dict(g['res'].value_counts(normalize=True))"
   ]
  },
  {
   "cell_type": "code",
   "execution_count": 13,
   "metadata": {},
   "outputs": [
    {
     "data": {
      "text/plain": [
       "0.33159192298661655"
      ]
     },
     "execution_count": 13,
     "metadata": {},
     "output_type": "execute_result"
    }
   ],
   "source": [
    "swing_trans['FF']['0a']['strike']"
   ]
  },
  {
   "cell_type": "code",
   "execution_count": 14,
   "metadata": {},
   "outputs": [],
   "source": [
    "with open('./swing_trans.json', 'w') as outfile:\n",
    "    json.dump(swing_trans, outfile)"
   ]
  }
 ],
 "metadata": {
  "kernelspec": {
   "display_name": "Python 3",
   "language": "python",
   "name": "python3"
  },
  "language_info": {
   "codemirror_mode": {
    "name": "ipython",
    "version": 3
   },
   "file_extension": ".py",
   "mimetype": "text/x-python",
   "name": "python",
   "nbconvert_exporter": "python",
   "pygments_lexer": "ipython3",
   "version": "3.8.5"
  }
 },
 "nbformat": 4,
 "nbformat_minor": 4
}
