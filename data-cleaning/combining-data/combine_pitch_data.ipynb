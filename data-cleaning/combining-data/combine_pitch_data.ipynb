{
 "cells": [
  {
   "cell_type": "markdown",
   "metadata": {},
   "source": [
    "## Combines 2019 and 2015-2018 Pitch Data\n",
    "\n",
    "Requirements - 2 CSV Files (in the same working directory):\n",
    "1. 2019_pitches.csv\n",
    "2. pitches.csv\n",
    "\n",
    "Output: A master CSV in the same directory\n",
    "\n",
    "Notes: We are missing Base Runner data for 2019, which we would need when we expand the state"
   ]
  },
  {
   "cell_type": "code",
   "execution_count": 2,
   "metadata": {},
   "outputs": [],
   "source": [
    "import pandas as pd\n",
    "import numpy as np"
   ]
  },
  {
   "cell_type": "code",
   "execution_count": 3,
   "metadata": {},
   "outputs": [],
   "source": [
    "path = '../../../RawData/pitches.csv'\n",
    "path_2019 = '../../../RawData/2019_pitches.csv'"
   ]
  },
  {
   "cell_type": "code",
   "execution_count": 4,
   "metadata": {},
   "outputs": [],
   "source": [
    "p = pd.read_csv(path)\n",
    "p_2019 = pd.read_csv(path_2019)"
   ]
  },
  {
   "cell_type": "code",
   "execution_count": null,
   "metadata": {},
   "outputs": [],
   "source": []
  }
 ],
 "metadata": {
  "kernelspec": {
   "display_name": "Python 3",
   "language": "python",
   "name": "python3"
  },
  "language_info": {
   "codemirror_mode": {
    "name": "ipython",
    "version": 3
   },
   "file_extension": ".py",
   "mimetype": "text/x-python",
   "name": "python",
   "nbconvert_exporter": "python",
   "pygments_lexer": "ipython3",
   "version": "3.8.5"
  }
 },
 "nbformat": 4,
 "nbformat_minor": 4
}
